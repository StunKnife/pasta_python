{
 "cells": [
  {
   "cell_type": "code",
   "execution_count": 94,
   "source": [
    "#Pacotes\r\n",
    "import pandas as pd\r\n",
    "import numpy\r\n",
    "from sklearn.ensemble import RandomForestClassifier\r\n",
    "\r\n"
   ],
   "outputs": [],
   "metadata": {}
  },
  {
   "cell_type": "code",
   "execution_count": 95,
   "source": [
    "#Importando base de dados: German Credit Data\r\n",
    "credit_data=pd.read_csv(\"credit_data.csv\",skiprows=0)\r\n",
    "credit_data;\r\n",
    "credit_data[\"class\"]=credit_data[\"class\"]-1"
   ],
   "outputs": [],
   "metadata": {}
  },
  {
   "cell_type": "code",
   "execution_count": 96,
   "source": [
    "#The creation of dummy variables step is similar to the logistic regression preprocessing step:\r\n",
    "dummy_stseca = pd.get_dummies(credit_data['Status_of_existing_checking_account'],prefix='status_exs_accnt')\r\n",
    "dummy_ch = pd.get_dummies(credit_data['Credit_history'],\r\n",
    "prefix='cred_hist')\r\n",
    "dummy_purpose = pd.get_dummies(credit_data['Purpose'],prefix='purpose')\r\n",
    "dummy_savacc = pd.get_dummies(credit_data[\"Savings_account/bonds\"],prefix='sav_acc')\r\n",
    "dummy_presc = pd.get_dummies(credit_data[\"Present_employment_since\"],\r\n",
    "prefix='pre_emp_snc')\r\n",
    "dummy_perssx = pd.get_dummies(credit_data[\"Personal_status_and_sex\"],\r\n",
    "prefix='per_stat_sx')\r\n",
    "dummy_othdts = pd.get_dummies(credit_data[\"Other_debtors_/_guarantors\"],\r\n",
    "prefix='oth_debtors')\r\n",
    "dummy_property = pd.get_dummies(credit_data['Property'],\r\n",
    "prefix='property')\r\n",
    "dummy_othinstpln =pd.get_dummies(credit_data['Other_installment_plans'],prefix='oth_inst_pln')\r\n",
    "dummy_housing = pd.get_dummies(credit_data[\"Housing\"],prefix='housing')\r\n",
    "dummy_job = pd.get_dummies(credit_data[\"Job\"], prefix='job')\r\n",
    "dummy_telephn = pd.get_dummies(credit_data[\"Telephone\"],prefix='telephn')\r\n",
    "dummy_forgnwrkr = pd.get_dummies(credit_data[\"foreign_worker\"],prefix='forgn_wrkr')\r\n",
    " "
   ],
   "outputs": [],
   "metadata": {}
  },
  {
   "cell_type": "code",
   "execution_count": 97,
   "source": [
    "continuous_columns = ['Duration_in_month', 'Credit_amount','Installment_rate_in_percentage_of_disposable_income',\r\n",
    "'Present_residence_since','Age_in_years','Number_of_existing_credits_at_this_bank','Number_of_people_being_liable_to_provide_maintenance_for']\r\n"
   ],
   "outputs": [],
   "metadata": {}
  },
  {
   "cell_type": "code",
   "execution_count": 98,
   "source": [
    "credit_continuous= credit_data[continuous_columns]\r\n"
   ],
   "outputs": [],
   "metadata": {}
  },
  {
   "cell_type": "code",
   "execution_count": 100,
   "source": [
    "credit_data_new = pd.concat([dummy_stseca, dummy_ch,dummy_purpose,dummy_savacc,dummy_presc,dummy_perssx,dummy_othdts, dummy_property,\r\n",
    "dummy_othinstpln,dummy_housing,dummy_job, dummy_telephn, dummy_forgnwrkr,credit_continuous,credit_data[\"class\"]],axis=1)"
   ],
   "outputs": [],
   "metadata": {}
  },
  {
   "cell_type": "code",
   "execution_count": 104,
   "source": [
    "rf_fit = RandomForestClassifier( n_estimators=1000, criterion=\"gini\", max_depth=100, min_samples_split=3,min_samples_leaf=2)\r\n",
    "\r\n",
    "\r\n"
   ],
   "outputs": [],
   "metadata": {}
  },
  {
   "cell_type": "code",
   "execution_count": 107,
   "source": [
    "from sklearn.model_selection import train_test_split\r\n",
    "\r\n",
    "x_train,x_test,y_train,y_test = train_test_split( credit_data_new.drop([\"class\"],axis=1),credit_data_new[\"class\"],train_size =\r\n",
    "0.7,random_state=42)\r\n",
    "\r\n",
    "rf_fit.fit(x_train,y_train)"
   ],
   "outputs": [
    {
     "output_type": "execute_result",
     "data": {
      "text/plain": [
       "RandomForestClassifier(max_depth=100, min_samples_leaf=2, min_samples_split=3,\n",
       "                       n_estimators=1000)"
      ]
     },
     "metadata": {},
     "execution_count": 107
    }
   ],
   "metadata": {}
  },
  {
   "cell_type": "code",
   "execution_count": 111,
   "source": [
    "print (\"\\nRandom Forest -Train Confusion Matrix\\n\\n\",pd.crosstab(y_train, rf_fit.predict( x_train),rownames =\r\n",
    "[\"Actuall\"],colnames = [\"Predicted\"]))\r\n",
    "\r\n",
    "from sklearn.metrics import accuracy_score,classification_report\r\n",
    "\r\n",
    "print (\"\\n Random Forest - Train accuracy\",round(accuracy_score(y_train, rf_fit.predict(x_train)),3))\r\n"
   ],
   "outputs": [
    {
     "output_type": "stream",
     "name": "stdout",
     "text": [
      "\n",
      "Random Forest -Train Confusion Matrix\n",
      "\n",
      " Predicted    0    1\n",
      "Actuall            \n",
      "0          491    0\n",
      "1           32  177\n",
      "\n",
      " Random Forest - Train accuracy 0.954\n"
     ]
    }
   ],
   "metadata": {}
  },
  {
   "cell_type": "code",
   "execution_count": 112,
   "source": [
    "from sklearn.pipeline import Pipeline\r\n",
    "from sklearn.model_selection import train_test_split,GridSearchCV"
   ],
   "outputs": [],
   "metadata": {}
  },
  {
   "cell_type": "code",
   "execution_count": 115,
   "source": [
    "pipeline = Pipeline([(\"clf\",RandomForestClassifier(criterion=\"gini\"))])\r\n",
    "\r\n",
    "parameters = {\"clf__n_estimators\":(1000,2000,3000),\r\n",
    "  \"clf__max_depth\":(100,200,300),\r\n",
    "  \"clf__min_samples_split\":(2,3),\r\n",
    "  \"clf__min_samples_leaf\":(1,2) }"
   ],
   "outputs": [],
   "metadata": {}
  },
  {
   "cell_type": "code",
   "execution_count": 125,
   "source": [
    "grid_search = GridSearchCV(pipeline,parameters,n_jobs=-1, cv=5,verbose=1,scoring=\"accuracy\")\r\n",
    "\r\n",
    "grid_search.fit(x_train,y_train)"
   ],
   "outputs": [
    {
     "output_type": "stream",
     "name": "stdout",
     "text": [
      "Fitting 5 folds for each of 36 candidates, totalling 180 fits\n"
     ]
    },
    {
     "output_type": "execute_result",
     "data": {
      "text/plain": [
       "GridSearchCV(cv=5,\n",
       "             estimator=Pipeline(steps=[('clf', RandomForestClassifier())]),\n",
       "             n_jobs=-1,\n",
       "             param_grid={'clf__max_depth': (100, 200, 300),\n",
       "                         'clf__min_samples_leaf': (1, 2),\n",
       "                         'clf__min_samples_split': (2, 3),\n",
       "                         'clf__n_estimators': (1000, 2000, 3000)},\n",
       "             scoring='accuracy', verbose=1)"
      ]
     },
     "metadata": {},
     "execution_count": 125
    }
   ],
   "metadata": {}
  },
  {
   "cell_type": "code",
   "execution_count": 130,
   "source": [
    "print ('Best Training score: %0.3f' % grid_search.best_score_)\r\n",
    "print ('Best parameters set:')\r\n",
    "best_parameters = grid_search.best_estimator_.get_params()\r\n",
    "for param_name in sorted(parameters.keys()):\r\n",
    "    print ('\\t%s: %r' % (param_name, best_parameters[param_name]))\r\n",
    "\r\n",
    "\r\n"
   ],
   "outputs": [
    {
     "output_type": "stream",
     "name": "stdout",
     "text": [
      "Best Training score: 0.773\n",
      "Best parameters set:\n",
      "\tclf__max_depth: 300\n",
      "\tclf__min_samples_leaf: 2\n",
      "\tclf__min_samples_split: 3\n",
      "\tclf__n_estimators: 1000\n"
     ]
    }
   ],
   "metadata": {}
  },
  {
   "cell_type": "code",
   "execution_count": 135,
   "source": [
    "predictions = grid_search.predict(x_test)\r\n",
    "print (\"Testing accuracy:\",round(accuracy_score(y_test,\r\n",
    "predictions),4))"
   ],
   "outputs": [
    {
     "output_type": "stream",
     "name": "stdout",
     "text": [
      "Testing accuracy: 0.7567\n"
     ]
    }
   ],
   "metadata": {}
  },
  {
   "cell_type": "code",
   "execution_count": 140,
   "source": [
    "print (\"\\nComplete report of Testing data\\n\",classification_report(y_test,predictions))\r\n"
   ],
   "outputs": [
    {
     "output_type": "stream",
     "name": "stdout",
     "text": [
      "\n",
      "Complete report of Testing data\n",
      "               precision    recall  f1-score   support\n",
      "\n",
      "           0       0.76      0.95      0.84       209\n",
      "           1       0.72      0.32      0.44        91\n",
      "\n",
      "    accuracy                           0.76       300\n",
      "   macro avg       0.74      0.63      0.64       300\n",
      "weighted avg       0.75      0.76      0.72       300\n",
      "\n"
     ]
    }
   ],
   "metadata": {}
  },
  {
   "cell_type": "code",
   "execution_count": 141,
   "source": [
    " print (\"\\n\\nRandom Forest Grid Search- Test Confusion Matrix\\n\\n\",pd.crosstab(y_test, predictions,rownames = [\"Actuall\"],colnames =\r\n",
    "[\"Predicted\"]))"
   ],
   "outputs": [
    {
     "output_type": "stream",
     "name": "stdout",
     "text": [
      "\n",
      "\n",
      "Random Forest Grid Search- Test Confusion Matrix\n",
      "\n",
      " Predicted    0   1\n",
      "Actuall           \n",
      "0          198  11\n",
      "1           62  29\n"
     ]
    }
   ],
   "metadata": {}
  }
 ],
 "metadata": {
  "orig_nbformat": 4,
  "language_info": {
   "name": "python",
   "version": "3.8.8",
   "mimetype": "text/x-python",
   "codemirror_mode": {
    "name": "ipython",
    "version": 3
   },
   "pygments_lexer": "ipython3",
   "nbconvert_exporter": "python",
   "file_extension": ".py"
  },
  "kernelspec": {
   "name": "python3",
   "display_name": "Python 3.8.8 64-bit ('base': conda)"
  },
  "interpreter": {
   "hash": "374be8c39ae01ff66328729506a9b9a7ba9eb3f2df141c8f3098ad96d8cc6bdd"
  }
 },
 "nbformat": 4,
 "nbformat_minor": 2
}